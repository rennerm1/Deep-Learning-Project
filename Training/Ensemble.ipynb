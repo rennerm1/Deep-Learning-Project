{
  "nbformat": 4,
  "nbformat_minor": 0,
  "metadata": {
    "colab": {
      "name": "Ensemble.ipynb",
      "provenance": [],
      "toc_visible": true,
      "authorship_tag": "ABX9TyPqkxMOzho70agQj4Y4ONVY",
      "include_colab_link": true
    },
    "kernelspec": {
      "name": "python3",
      "display_name": "Python 3"
    }
  },
  "cells": [
    {
      "cell_type": "markdown",
      "metadata": {
        "id": "view-in-github",
        "colab_type": "text"
      },
      "source": [
        "<a href=\"https://colab.research.google.com/github/pds1920/capstone-group-6/blob/master/Training/Ensemble.ipynb\" target=\"_parent\"><img src=\"https://colab.research.google.com/assets/colab-badge.svg\" alt=\"Open In Colab\"/></a>"
      ]
    },
    {
      "cell_type": "code",
      "metadata": {
        "id": "llS0awg3Xeqy",
        "colab_type": "code",
        "colab": {}
      },
      "source": [
        "import numpy as np\n",
        "import pandas as pd"
      ],
      "execution_count": 0,
      "outputs": []
    },
    {
      "cell_type": "code",
      "metadata": {
        "id": "4QW0IHqYCGmV",
        "colab_type": "code",
        "outputId": "82cd4faf-b3a8-4bf8-a974-e0449415d78a",
        "colab": {
          "base_uri": "https://localhost:8080/",
          "height": 122
        }
      },
      "source": [
        "from google.colab import drive\n",
        "\n",
        "drive.mount('/content/gdrive')\n",
        "root_path = 'gdrive/My Drive/PDS/'"
      ],
      "execution_count": 2,
      "outputs": [
        {
          "output_type": "stream",
          "text": [
            "Go to this URL in a browser: https://accounts.google.com/o/oauth2/auth?client_id=947318989803-6bn6qk8qdgf4n4g3pfee6491hc0brc4i.apps.googleusercontent.com&redirect_uri=urn%3aietf%3awg%3aoauth%3a2.0%3aoob&response_type=code&scope=email%20https%3a%2f%2fwww.googleapis.com%2fauth%2fdocs.test%20https%3a%2f%2fwww.googleapis.com%2fauth%2fdrive%20https%3a%2f%2fwww.googleapis.com%2fauth%2fdrive.photos.readonly%20https%3a%2f%2fwww.googleapis.com%2fauth%2fpeopleapi.readonly\n",
            "\n",
            "Enter your authorization code:\n",
            "··········\n",
            "Mounted at /content/gdrive\n"
          ],
          "name": "stdout"
        }
      ]
    },
    {
      "cell_type": "code",
      "metadata": {
        "id": "X5y5ZWh6Xxn0",
        "colab_type": "code",
        "colab": {}
      },
      "source": [
        "csv_paths = \"/content/gdrive/My Drive/submissions\""
      ],
      "execution_count": 0,
      "outputs": []
    },
    {
      "cell_type": "markdown",
      "metadata": {
        "id": "AWdJQ3reYJjA",
        "colab_type": "text"
      },
      "source": [
        "# Trick 2: Blending\n",
        "When you have different models or different model configurations, then it could be that some models are experts at recognizing all kinds of tuna, while others are better at distinguishing fish vs no fish. Good specialist models are only very certain in their own area. In this case it helps to let them work together to a solution. A way of combining the outputs of multiple models or model settings is blending. It's a very simple procedure where all predictions are added to each other for each image, class pair and then divided by the number of models. \n",
        "\n",
        "Source \"https://www.kaggle.com/sbrugman/tricks-for-the-kaggle-leaderboard\""
      ]
    },
    {
      "cell_type": "code",
      "metadata": {
        "id": "EiZTe_JZXqkP",
        "colab_type": "code",
        "outputId": "57ebda27-0e8f-4afb-a17c-5022a81067c8",
        "colab": {
          "base_uri": "https://localhost:8080/",
          "height": 255
        }
      },
      "source": [
        "def blend_csv(csv_paths):\n",
        "    if len(csv_paths) < 2:\n",
        "        print(\"Blending takes two or more csv files!\")\n",
        "        return\n",
        "    \n",
        "    # Read the first file\n",
        "    df_blend = pd.read_csv(csv_paths[0], index_col=0)\n",
        "    \n",
        "    # Loop over all files and add them\n",
        "    for csv_file in csv_paths[1:]:\n",
        "        df = pd.read_csv(csv_file, index_col=0)\n",
        "        df_blend = df_blend.add(df)\n",
        "        \n",
        "    # Divide by the number of files\n",
        "    df_blend = df_blend.div(len(csv_paths))\n",
        "\n",
        "    # Save the blend file\n",
        "    df_blend.to_csv('ensemblemix.csv')\n",
        "    print(df_blend.head(10))\n",
        "\n",
        "# Obviously replace this with two or more of your files\n",
        "blend_csv(['/content/gdrive/My Drive/submissions/ensemble3.csv', '/content/gdrive/My Drive/submissions/submissionsmixup_customtransforms.csv',\n",
        "           \"/content/gdrive/My Drive/submissions/ensemble2.csv\", \"/content/gdrive/My Drive/submissions/ensemble4.csv\"])"
      ],
      "execution_count": 5,
      "outputs": [
        {
          "output_type": "stream",
          "text": [
            "                    ALB       BET       DOL  ...     OTHER     SHARK       YFT\n",
            "image                                        ...                              \n",
            "img_00005.jpg  0.007040  0.000075  0.001486  ...  0.000879  0.000196  0.000643\n",
            "img_00007.jpg  0.744598  0.033335  0.005682  ...  0.040057  0.002983  0.167682\n",
            "img_00009.jpg  0.961857  0.021376  0.000369  ...  0.004910  0.000596  0.004493\n",
            "img_00018.jpg  0.955333  0.002434  0.000353  ...  0.005828  0.000685  0.029373\n",
            "img_00027.jpg  0.815088  0.011853  0.001204  ...  0.047370  0.000255  0.105980\n",
            "img_00030.jpg  0.025532  0.000360  0.000749  ...  0.001515  0.005611  0.008351\n",
            "img_00040.jpg  0.264545  0.046181  0.001663  ...  0.010104  0.588848  0.043879\n",
            "img_00046.jpg  0.447415  0.000215  0.001761  ...  0.002504  0.000346  0.002401\n",
            "img_00053.jpg  0.996919  0.000035  0.000211  ...  0.000016  0.000066  0.001832\n",
            "img_00071.jpg  0.002520  0.000759  0.000034  ...  0.000896  0.000205  0.000315\n",
            "\n",
            "[10 rows x 8 columns]\n"
          ],
          "name": "stdout"
        }
      ]
    },
    {
      "cell_type": "markdown",
      "metadata": {
        "id": "gNDQMuzg6JR5",
        "colab_type": "text"
      },
      "source": [
        ""
      ]
    },
    {
      "cell_type": "markdown",
      "metadata": {
        "id": "KtMfLMaVDVF-",
        "colab_type": "text"
      },
      "source": [
        "Blend\n",
        "\n",
        "Private Score : 1.91677\n",
        "\n",
        "Public Score: 0.87409\n",
        "\n",
        "\n",
        "---\n",
        "\n",
        "ensemble 1\n",
        "\n",
        "Private Score: 1.72839\n",
        "\n",
        "Public Score: 0.80471"
      ]
    },
    {
      "cell_type": "markdown",
      "metadata": {
        "id": "BrQTbbyq7KfR",
        "colab_type": "text"
      },
      "source": [
        "\n",
        "\n",
        "---\n",
        "\n",
        "Ensemble 2\n",
        "\n",
        "Private Score: 1.65067\n",
        "\n",
        "Public Score: 0.78891"
      ]
    },
    {
      "cell_type": "markdown",
      "metadata": {
        "id": "fhtxq0_FV03x",
        "colab_type": "text"
      },
      "source": [
        "ensemble 3\n",
        "\n",
        "Private Score: 1.55912\n",
        "\n",
        "Public Score: 0.78779"
      ]
    },
    {
      "cell_type": "markdown",
      "metadata": {
        "id": "-J6BszYaWw3d",
        "colab_type": "text"
      },
      "source": [
        "Ensemblemix\n",
        "\n",
        "Private Score: 1.55687\n",
        "\n",
        "Public Score: 0.79316"
      ]
    }
  ]
}